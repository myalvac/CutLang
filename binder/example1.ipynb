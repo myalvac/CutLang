{
 "cells": [
  {
   "cell_type": "markdown",
   "source": [
    "It may take a few seconds"
   ],
   "metadata": {}
  },
  {
   "cell_type": "code",
   "execution_count": null,
   "source": [
    "!wget -q --show-progress --progress=dot:giga https://www.dropbox.com/s/zza28peyjy8qgg6/T2tt_700_50.root\n",
    "!wget -q --show-progress --progress=dot:giga http://www.hepforge.org/archive/cutlang/atla_opendata_had_ttbar.root"
   ],
   "outputs": [],
   "metadata": {}
  },
  {
   "cell_type": "markdown",
   "source": [
    "# CutLang parameters\n",
    "- **file** = Root file name (**required**)\n",
    "- **filetype** = Root file type (**required**) | ROOT file type can be:\n",
    " *LHCO*\n",
    " *FCC*\n",
    " *LVL0*\n",
    " *DELPHES*\n",
    " *ATLASVLL*\n",
    " *ATLMIN*\n",
    " *ATLASOD*\n",
    " *ATLASODR2*\n",
    " *CMSOD*\n",
    " *CMSNANO*\n",
    " *VLLBG3*\n",
    " *VLLSIGNAL*\n",
    "- **adl | adlfile** = ADL file name (default=*cutlang-adl-name*)\n",
    "- **events** = Numbers of events (number)\n",
    "- **start** = Starting event (number)\n",
    "- **help** = Help (bool)\n",
    "- **deps** = DEPS (string)\n",
    "- **verbose** = Verbose frequency (number)\n",
    "\n",
    "# Output file\n",
    "Output file name will be **histoOut-\\<adlfile\\>-\\<file\\>.root**"
   ],
   "metadata": {}
  },
  {
   "cell_type": "code",
   "execution_count": null,
   "source": [
    "%%cutlang file=T2tt_700_50.root filetype=DELPHES adlfile=exHistos events=20000\n",
    "# ADL file for ROOT101 tutorial: opening files and drawing histograms\n",
    "# Runs with binder/ROOTintroPython.ipynb, binder/ROOTintroCpp.ipynb\n",
    "\n",
    "# Object selection\n",
    "object jets\n",
    "  take jet\n",
    "  select pT(jet) > 30\n",
    "  select abs(eta(jet)) < 2.4\n",
    "\n",
    "# Event selection\n",
    "region presel\n",
    "  select ALL\n",
    "  select MET > 300\n",
    "  select size(jets) >= 4\n",
    "  histo hjet1pt , \"jet 1 pT (GeV)\", 40, 0, 1000, pT(jets[0])\n",
    "  histo hjet2pt , \"jet 2 pT (GeV)\", 40, 0, 1000, pT(jets[1])\n",
    "  histo hjet3pt , \"jet 3 pT (GeV)\", 40, 0, 1000, pT(jets[2])\n",
    "  histo hjet4pt , \"jet 4 pT (GeV)\", 40, 0, 1000, pT(jets[3])\n",
    "  histo hmetjet1pt, \"MET vs. jet 1 pT\", 20, 300, 1300, 20, 0, 1000, MET, pT(jets[0])\n"
   ],
   "outputs": [],
   "metadata": {}
  },
  {
   "cell_type": "markdown",
   "source": [
    "> You can run the same analysis with different root files (separating each with ;) and add different parameters (separating each with ;) for each (optional)"
   ],
   "metadata": {}
  },
  {
   "cell_type": "code",
   "execution_count": null,
   "source": [
    "%%cutlang file=T2tt_700_50.root;atla_opendata_had_ttbar.root filetype=DELPHES;ATLASOD adlfile=exHistos events=5000;10000 start=0\n",
    "# ADL file for ROOT101 tutorial: opening files and drawing histograms\n",
    "# Runs with binder/ROOTintroPython.ipynb, binder/ROOTintroCpp.ipynb\n",
    "\n",
    "# Object selection\n",
    "object jets\n",
    "  take jet\n",
    "  select pT(jet) > 30\n",
    "  select abs(eta(jet)) < 2.4\n",
    "\n",
    "# Event selection\n",
    "region presel\n",
    "  select ALL\n",
    "  select MET > 300\n",
    "  select size(jets) >= 4\n",
    "  histo hjet1pt , \"jet 1 pT (GeV)\", 40, 0, 1000, pT(jets[0])\n",
    "  histo hjet2pt , \"jet 2 pT (GeV)\", 40, 0, 1000, pT(jets[1])\n",
    "  histo hjet3pt , \"jet 3 pT (GeV)\", 40, 0, 1000, pT(jets[2])\n",
    "  histo hjet4pt , \"jet 4 pT (GeV)\", 40, 0, 1000, pT(jets[3])\n",
    "  histo hmetjet1pt, \"MET vs. jet 1 pT\", 20, 300, 1300, 20, 0, 1000, MET, pT(jets[0])\n"
   ],
   "outputs": [],
   "metadata": {}
  }
 ],
 "metadata": {
  "kernelspec": {
   "display_name": "ROOT C++ with CutLang",
   "language": "c++",
   "name": "cutlang"
  },
  "language_info": {
   "codemirror_mode": "text/x-c++src",
   "file_extension": ".C",
   "mimetype": " text/x-c++src",
   "name": "c++"
  }
 },
 "nbformat": 4,
 "nbformat_minor": 4
}