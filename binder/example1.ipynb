{
 "cells": [
  {
   "cell_type": "code",
   "execution_count": null,
   "source": [
    "%%python\n",
    "import os\n",
    "os.chdir(\"../runs\")\n",
    "os.system(\"wget https://www.dropbox.com/s/zza28peyjy8qgg6/T2tt_700_50.root\")"
   ],
   "outputs": [],
   "metadata": {}
  },
  {
   "cell_type": "code",
   "execution_count": null,
   "source": [
    "%%cutlang file=T2tt_700_50.root filetype=DELPHES name=exHistos\n",
    "# ADL file for ROOT101 tutorial: opening files and drawing histograms\n",
    "# Runs with binder/ROOTintroPython.ipynb, binder/ROOTintroCpp.ipynb\n",
    "\n",
    "# Object selection\n",
    "object jets\n",
    "  take jet\n",
    "  select pT(jet) > 30\n",
    "  select abs(eta(jet)) < 2.4\n",
    "\n",
    "# Event selection\n",
    "region presel\n",
    "  select ALL\n",
    "  select MET > 300\n",
    "  select size(jets) >= 4\n",
    "  histo hjet1pt , \"jet 1 pT (GeV)\", 40, 0, 1000, pT(jets[0])\n",
    "  histo hjet2pt , \"jet 2 pT (GeV)\", 40, 0, 1000, pT(jets[1])\n",
    "  histo hjet3pt , \"jet 3 pT (GeV)\", 40, 0, 1000, pT(jets[2])\n",
    "  histo hjet4pt , \"jet 4 pT (GeV)\", 40, 0, 1000, pT(jets[3])\n",
    "  histo hmetjet1pt, \"MET vs. jet 1 pT\", 20, 300, 1300, 20, 0, 1000, MET, pT(jets[0])\n"
   ],
   "outputs": [],
   "metadata": {}
  }
 ],
 "metadata": {
  "kernelspec": {
   "display_name": "ROOT C++ with CutLang",
   "language": "c++",
   "name": "cutlang"
  },
  "language_info": {
   "codemirror_mode": "text/x-c++src",
   "file_extension": ".C",
   "mimetype": " text/x-c++src",
   "name": "c++"
  }
 },
 "nbformat": 4,
 "nbformat_minor": 4
}