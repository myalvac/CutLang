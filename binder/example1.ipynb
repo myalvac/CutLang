{
 "cells": [
  {
   "cell_type": "code",
   "execution_count": 1,
   "metadata": {},
   "outputs": [
    {
     "name": "stdout",
     "output_type": "stream",
     "text": [
      "/Users/ssekmen/physics/work/cutlang/2012/CutLang/runs\n"
     ]
    }
   ],
   "source": [
    "cd ../runs"
   ]
  },
  {
   "cell_type": "code",
   "execution_count": 2,
   "metadata": {},
   "outputs": [
    {
     "name": "stdout",
     "output_type": "stream",
     "text": [
      "--2020-12-03 12:48:29--  http://opendata.atlas.cern/release/samples/MC/mc_105986.ZZ.root\n",
      "Resolving opendata.atlas.cern (opendata.atlas.cern)... 2001:1458:d00:35::100:100, 188.184.100.115\n",
      "Connecting to opendata.atlas.cern (opendata.atlas.cern)|2001:1458:d00:35::100:100|:80... ^C\n"
     ]
    }
   ],
   "source": [
    "!wget http://opendata.atlas.cern/release/samples/MC/mc_105986.ZZ.root"
   ]
  },
  {
   "cell_type": "code",
   "execution_count": 3,
   "metadata": {},
   "outputs": [
    {
     "name": "stdout",
     "output_type": "stream",
     "text": []
    }
   ],
   "source": [
    "ls"
   ]
  },
  {
   "cell_type": "code",
   "execution_count": 3,
   "metadata": {},
   "outputs": [
    {
     "name": "stdout",
     "output_type": "stream",
     "text": [
      "Single Analysis\n",
      "../CLA/CLA.exe /Users/ssekmen/Dropbox/PFBU-2020-ADL-Files/T1tttt_1200_800.root -inp DELPHES -BP 1 -EVT 10000 -V 5000 -ST 0\n",
      "CLA v02.9.00\tcompiled on Thu Dec  3 12:47:02 CET 2020\t \n",
      "Analysis run count is 1\n",
      "~Now using Delphes files.~~~~~~ beta!\n",
      "open /Users/ssekmen/Dropbox/PFBU-2020-ADL-Files/T1tttt_1200_800.root\n",
      "RetVal:1\n",
      "initialized with the chain\n",
      " #systematic included:0\n",
      "This is BP_1\n",
      "\t REGION/ALGO:test\n",
      "==Parsing started:\t\t Parsing finished.==\n",
      "We have 3 CutLang Cuts, 0 CutLang objects and 0 Bins\n",
      "TRGe:1  TRGm:0\n",
      " => 0 BP_1\n",
      "End of analysis initialization\n",
      "** WARNING: cannot access branch 'Particle', return NULL pointer\n",
      "number of entries 20000\n",
      "Forced number of entries 10000\n",
      "starting entry 0\n",
      "Processing event 0\n",
      "Processing event 5000\n",
      "Efficiencies for analysis : BP_1\n",
      "\t\t\t\t\t\ttest\tBased on 10000 events:\n",
      "                                                               ALL :      1 +-         0 evt:    10000\n",
      "                                                   Size (ELE) >= 1 :  0.166 +-   0.00372 evt:     1660\n",
      "                                                    randWeight www :  12.31 +-       nan evt: 20434.6007\n",
      "\t\t\t\t\t --> Overall efficiency\t =    204 % +-    nan %\n",
      "Bins for analysis : BP_1\n",
      "saving...\tsaved.\n",
      "finished.\n",
      "CutLang finished successfully, now adding histograms\n",
      "hadd Target file: histoOut-ex1.root\n",
      "hadd compression setting for all output: 1\n",
      "hadd Source file 1: histoOut-BP_1.root\n",
      "hadd Target path: histoOut-ex1.root:/\n",
      "hadd Target path: histoOut-ex1.root:/test\n"
     ]
    }
   ],
   "source": [
    "!./CLA.sh ~/Dropbox/PFBU-2020-ADL-Files/T1tttt_1200_800.root DELPHES -i ex1.adl -e 10000"
   ]
  },
  {
   "cell_type": "code",
   "execution_count": null,
   "metadata": {},
   "outputs": [],
   "source": []
  },
  {
   "cell_type": "code",
   "execution_count": null,
   "metadata": {},
   "outputs": [],
   "source": []
  }
 ],
 "metadata": {
  "kernelspec": {
   "display_name": "Python 3",
   "language": "python",
   "name": "python3"
  },
  "language_info": {
   "codemirror_mode": {
    "name": "ipython",
    "version": 3
   },
   "file_extension": ".py",
   "mimetype": "text/x-python",
   "name": "python",
   "nbconvert_exporter": "python",
   "pygments_lexer": "ipython3",
   "version": "3.8.3"
  }
 },
 "nbformat": 4,
 "nbformat_minor": 2
}
